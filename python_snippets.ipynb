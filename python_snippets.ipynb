{
 "cells": [
  {
   "cell_type": "markdown",
   "id": "b0970580-98a7-4934-9de2-330365f424d5",
   "metadata": {
    "tags": []
   },
   "source": [
    "##### Creating a list a of tuples out of a list"
   ]
  },
  {
   "cell_type": "code",
   "execution_count": 1,
   "id": "c04fbe20-fa02-45e0-b4f5-a1638ce894b2",
   "metadata": {},
   "outputs": [
    {
     "data": {
      "text/plain": [
       "[(1, 1), (4, 16), (6, 36)]"
      ]
     },
     "execution_count": 1,
     "metadata": {},
     "output_type": "execute_result"
    }
   ],
   "source": [
    "numbers = [1, 4, 6]\n",
    "new_list = [(number, number ** 2) for number in numbers]\n",
    "new_list"
   ]
  },
  {
   "cell_type": "markdown",
   "id": "6cd1369e-a974-4051-b150-2e545112730f",
   "metadata": {},
   "source": [
    "##### Creating a dictionary, out of a list of lists"
   ]
  },
  {
   "cell_type": "code",
   "execution_count": null,
   "id": "15f1de0d-2151-4ad8-b7d7-59bc3983b8a8",
   "metadata": {
    "tags": []
   },
   "outputs": [],
   "source": [
    "prices = [['apple',150], ['banana', 80], ['orange', 120]]\n",
    "prices_dict = dict()\n",
    "#for item in prices:\n",
    "    #print(i, type(i))\n",
    "#    prices_dict.update({item[0] : item[1]})\n",
    "prices_dict = {item[0] : item[1] for item in prices}\n",
    "prices_dict"
   ]
  },
  {
   "cell_type": "markdown",
   "id": "6e06e12e-428a-435f-823f-658ebeec03a5",
   "metadata": {},
   "source": [
    "##### Creating a dictionary out of a list"
   ]
  },
  {
   "cell_type": "code",
   "execution_count": null,
   "id": "b5a31051-9954-4af7-a0e6-252439b03dff",
   "metadata": {
    "tags": []
   },
   "outputs": [
    {
     "data": {
      "text/plain": [
       "{'apple': 2, 'banana': 2, 'cherry': 3}"
      ]
     },
     "execution_count": 2,
     "metadata": {},
     "output_type": "execute_result"
    }
   ],
   "source": [
    "def number_of_repetition(word_list):\n",
    "    num_dict = {}\n",
    "    for word in word_list:\n",
    "        if word in num_dict.keys():\n",
    "            num_dict[word] += 1\n",
    "        else:\n",
    "            num_dict[word] = 1\n",
    "    return num_dict\n",
    "\n",
    "word_list = [\"apple\", \"banana\", \"apple\", \"cherry\", \"banana\", \"cherry\", \"cherry\"]\n",
    "number_of_repetition(word_list)"
   ]
  },
  {
   "cell_type": "markdown",
   "id": "ea486e5d-9e6c-4d01-9517-c27150243285",
   "metadata": {},
   "source": [
    "##### Counting number of passed scores in a list in one line"
   ]
  },
  {
   "cell_type": "code",
   "execution_count": 1,
   "id": "9de94fc0-e42a-437c-9c3c-c1549deb3f26",
   "metadata": {
    "tags": []
   },
   "outputs": [
    {
     "data": {
      "text/plain": [
       "3"
      ]
     },
     "execution_count": 1,
     "metadata": {},
     "output_type": "execute_result"
    }
   ],
   "source": [
    "def count_passed_students(student_scores):\n",
    "    return sum(1 for score in student_scores if score > 50)\n",
    "    \n",
    "student_scores = [55, 45, 70, 30, 90]\n",
    "count_passed_students(student_scores)"
   ]
  },
  {
   "cell_type": "markdown",
   "id": "2a20c64d-cd13-4677-bc22-8d407062d92b",
   "metadata": {},
   "source": [
    "##### Calculate 15% discount for invoices if invoice>100"
   ]
  },
  {
   "cell_type": "code",
   "execution_count": 1,
   "id": "5747bf3a-b2a4-4117-8e02-2efad3c6048f",
   "metadata": {
    "tags": []
   },
   "outputs": [
    {
     "data": {
      "text/plain": [
       "[93.5, 50, 127.5, 170.0]"
      ]
     },
     "execution_count": 1,
     "metadata": {},
     "output_type": "execute_result"
    }
   ],
   "source": [
    "def discount(invoices):\n",
    "    return [invoice * 0.85 if invoice > 100 else invoice for invoice in invoices]\n",
    "\n",
    "invoices = [110, 50, 150, 200]\n",
    "discount(invoices)"
   ]
  },
  {
   "cell_type": "markdown",
   "id": "6e56cd1c-e4f0-4879-850d-7d4f01691d34",
   "metadata": {},
   "source": [
    "##### age_limit code in 2 forms"
   ]
  },
  {
   "cell_type": "code",
   "execution_count": 1,
   "id": "11d3852c-44ff-49bd-b2bf-161b09ecbda8",
   "metadata": {
    "tags": []
   },
   "outputs": [
    {
     "data": {
      "text/plain": [
       "'allowed'"
      ]
     },
     "execution_count": 1,
     "metadata": {},
     "output_type": "execute_result"
    }
   ],
   "source": [
    "def age_limit(age, limit):\n",
    "    return \"allowed\" if age > limit else \"not allowed\"\n",
    "\n",
    "age_limit(16, 15)"
   ]
  },
  {
   "cell_type": "code",
   "execution_count": 2,
   "id": "75b43fd0-af58-4dde-a756-e057f3f619f1",
   "metadata": {
    "tags": []
   },
   "outputs": [
    {
     "data": {
      "text/plain": [
       "True"
      ]
     },
     "execution_count": 2,
     "metadata": {},
     "output_type": "execute_result"
    }
   ],
   "source": [
    "def age_limit(age, limit):\n",
    "    return age > limit\n",
    "\n",
    "age_limit(16, 15)"
   ]
  }
 ],
 "metadata": {
  "kernelspec": {
   "display_name": "Python 3 (ipykernel)",
   "language": "python",
   "name": "python3"
  },
  "language_info": {
   "codemirror_mode": {
    "name": "ipython",
    "version": 3
   },
   "file_extension": ".py",
   "mimetype": "text/x-python",
   "name": "python",
   "nbconvert_exporter": "python",
   "pygments_lexer": "ipython3",
   "version": "3.11.5"
  }
 },
 "nbformat": 4,
 "nbformat_minor": 5
}
