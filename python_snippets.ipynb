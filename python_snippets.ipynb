{
 "cells": [
  {
   "cell_type": "code",
   "execution_count": 1,
   "id": "c04fbe20-fa02-45e0-b4f5-a1638ce894b2",
   "metadata": {},
   "outputs": [
    {
     "data": {
      "text/plain": [
       "[(1, 1), (4, 16), (6, 36)]"
      ]
     },
     "execution_count": 1,
     "metadata": {},
     "output_type": "execute_result"
    }
   ],
   "source": [
    "numbers = [1, 4, 6]\n",
    "new_list = [(number, number ** 2) for number in numbers]\n",
    "new_list"
   ]
  },
  {
   "cell_type": "markdown",
   "id": "6cd1369e-a974-4051-b150-2e545112730f",
   "metadata": {},
   "source": [
    "2. creating a dictionary, out of a list of lists"
   ]
  },
  {
   "cell_type": "code",
   "execution_count": 3,
   "id": "15f1de0d-2151-4ad8-b7d7-59bc3983b8a8",
   "metadata": {
    "tags": []
   },
   "outputs": [
    {
     "data": {
      "text/plain": [
       "{'apple': 150, 'banana': 80, 'orange': 120}"
      ]
     },
     "execution_count": 3,
     "metadata": {},
     "output_type": "execute_result"
    }
   ],
   "source": [
    "prices = [['apple',150], ['banana', 80], ['orange', 120]]\n",
    "prices_dict = dict()\n",
    "#for item in prices:\n",
    "    #print(i, type(i))\n",
    "#    prices_dict.update({item[0] : item[1]})\n",
    "prices_dict = {item[0] : item[1] for item in prices}\n",
    "prices_dict"
   ]
  }
 ],
 "metadata": {
  "kernelspec": {
   "display_name": "Python 3 (ipykernel)",
   "language": "python",
   "name": "python3"
  },
  "language_info": {
   "codemirror_mode": {
    "name": "ipython",
    "version": 3
   },
   "file_extension": ".py",
   "mimetype": "text/x-python",
   "name": "python",
   "nbconvert_exporter": "python",
   "pygments_lexer": "ipython3",
   "version": "3.11.5"
  }
 },
 "nbformat": 4,
 "nbformat_minor": 5
}
