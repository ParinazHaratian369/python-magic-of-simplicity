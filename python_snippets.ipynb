{
 "cells": [
  {
   "cell_type": "markdown",
   "id": "b0970580-98a7-4934-9de2-330365f424d5",
   "metadata": {
    "tags": []
   },
   "source": [
    "##### Creating a list a of tuples out of a list"
   ]
  },
  {
   "cell_type": "code",
   "execution_count": 1,
   "id": "c04fbe20-fa02-45e0-b4f5-a1638ce894b2",
   "metadata": {},
   "outputs": [
    {
     "data": {
      "text/plain": [
       "[(1, 1), (4, 16), (6, 36)]"
      ]
     },
     "execution_count": 1,
     "metadata": {},
     "output_type": "execute_result"
    }
   ],
   "source": [
    "numbers = [1, 4, 6]\n",
    "new_list = [(number, number ** 2) for number in numbers]\n",
    "new_list"
   ]
  },
  {
   "cell_type": "markdown",
   "id": "6cd1369e-a974-4051-b150-2e545112730f",
   "metadata": {},
   "source": [
    "##### Creating a dictionary, out of a list of lists"
   ]
  },
  {
   "cell_type": "code",
   "execution_count": null,
   "id": "15f1de0d-2151-4ad8-b7d7-59bc3983b8a8",
   "metadata": {
    "tags": []
   },
   "outputs": [],
   "source": [
    "prices = [['apple',150], ['banana', 80], ['orange', 120]]\n",
    "prices_dict = dict()\n",
    "#for item in prices:\n",
    "    #print(i, type(i))\n",
    "#    prices_dict.update({item[0] : item[1]})\n",
    "prices_dict = {item[0] : item[1] for item in prices}\n",
    "prices_dict"
   ]
  },
  {
   "cell_type": "markdown",
   "id": "6e06e12e-428a-435f-823f-658ebeec03a5",
   "metadata": {},
   "source": [
    "##### Creating a dictionary out of a list"
   ]
  },
  {
   "cell_type": "code",
   "execution_count": 2,
   "id": "b5a31051-9954-4af7-a0e6-252439b03dff",
   "metadata": {
    "tags": []
   },
   "outputs": [
    {
     "data": {
      "text/plain": [
       "{'apple': 2, 'banana': 2, 'cherry': 3}"
      ]
     },
     "execution_count": 2,
     "metadata": {},
     "output_type": "execute_result"
    }
   ],
   "source": [
    "def number_of_repetition(word_list):\n",
    "    num_dict = {}\n",
    "    for word in word_list:\n",
    "        if word in num_dict.keys():\n",
    "            num_dict[word] += 1\n",
    "        else:\n",
    "            num_dict[word] = 1\n",
    "    return num_dict\n",
    "\n",
    "word_list = [\"apple\", \"banana\", \"apple\", \"cherry\", \"banana\", \"cherry\", \"cherry\"]\n",
    "number_of_repetition(word_list)"
   ]
  },
  {
   "cell_type": "code",
   "execution_count": null,
   "id": "63effa2d-bf9c-4f8e-abd4-934ea9f1c3de",
   "metadata": {},
   "outputs": [],
   "source": []
  }
 ],
 "metadata": {
  "kernelspec": {
   "display_name": "Python 3 (ipykernel)",
   "language": "python",
   "name": "python3"
  },
  "language_info": {
   "codemirror_mode": {
    "name": "ipython",
    "version": 3
   },
   "file_extension": ".py",
   "mimetype": "text/x-python",
   "name": "python",
   "nbconvert_exporter": "python",
   "pygments_lexer": "ipython3",
   "version": "3.11.5"
  }
 },
 "nbformat": 4,
 "nbformat_minor": 5
}
