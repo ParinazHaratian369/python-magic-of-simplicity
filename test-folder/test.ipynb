{
 "cells": [
  {
   "cell_type": "markdown",
   "id": "83b6c429-4422-4e82-a801-8f59e5e1feb3",
   "metadata": {},
   "source": [
    "hello githab"
   ]
  },
  {
   "cell_type": "code",
   "execution_count": null,
   "id": "8e14574b-795b-4ac8-9c90-f499c20d31a9",
   "metadata": {},
   "outputs": [],
   "source": [
    "print(\"hello githab\")"
   ]
  }
 ],
 "metadata": {
  "kernelspec": {
   "display_name": "Python 3 (ipykernel)",
   "language": "python",
   "name": "python3"
  },
  "language_info": {
   "codemirror_mode": {
    "name": "ipython",
    "version": 3
   },
   "file_extension": ".py",
   "mimetype": "text/x-python",
   "name": "python",
   "nbconvert_exporter": "python",
   "pygments_lexer": "ipython3",
   "version": "3.11.5"
  }
 },
 "nbformat": 4,
 "nbformat_minor": 5
}
